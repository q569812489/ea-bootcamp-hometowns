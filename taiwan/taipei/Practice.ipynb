{
 "cells": [
  {
   "cell_type": "markdown",
   "id": "a38d87bd-cfb4-4678-a55f-da375d87d6de",
   "metadata": {},
   "source": [
    "## Location: Taipei"
   ]
  },
  {
   "cell_type": "markdown",
   "id": "fc57be53-3a0e-40b4-a626-08cf62dd98ac",
   "metadata": {},
   "source": [
    "#### Latitude: 25.2345, Longitude: 121.3455"
   ]
  },
  {
   "cell_type": "markdown",
   "id": "6c1d8353-181c-4261-9b44-a038fe4de26e",
   "metadata": {},
   "source": [
    "## Population: 2,490,000\n",
    "#### https://en.wikipedia.org/wiki/Taipei"
   ]
  },
  {
   "cell_type": "markdown",
   "id": "2a2bae2d-2e2f-4c00-9963-e82998bc33d8",
   "metadata": {},
   "source": [
    "## LandMark"
   ]
  },
  {
   "cell_type": "markdown",
   "id": "1cbf5348-512a-4359-842e-a18312b4ed79",
   "metadata": {},
   "source": [
    "![My living city.](taipei101.jpeg)"
   ]
  },
  {
   "cell_type": "code",
   "execution_count": null,
   "id": "fa0276ae-0101-405e-bc6d-3bd47285ef28",
   "metadata": {},
   "outputs": [],
   "source": []
  }
 ],
 "metadata": {
  "kernelspec": {
   "display_name": "Python 3 (ipykernel)",
   "language": "python",
   "name": "python3"
  },
  "language_info": {
   "codemirror_mode": {
    "name": "ipython",
    "version": 3
   },
   "file_extension": ".py",
   "mimetype": "text/x-python",
   "name": "python",
   "nbconvert_exporter": "python",
   "pygments_lexer": "ipython3",
   "version": "3.11.11"
  }
 },
 "nbformat": 4,
 "nbformat_minor": 5
}
